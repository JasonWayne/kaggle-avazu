{
 "cells": [
  {
   "cell_type": "code",
   "execution_count": 8,
   "metadata": {
    "collapsed": false
   },
   "outputs": [
    {
     "name": "stderr",
     "output_type": "stream",
     "text": [
      "Using Theano backend.\n"
     ]
    }
   ],
   "source": [
    "import numpy as np\n",
    "np.random.seed(1337)\n",
    "\n",
    "from keras.preprocessing import sequence\n",
    "from keras.models import Sequential\n",
    "from keras.layers import Dense, Lambda, Embedding\n",
    "from keras.layers.normalization import BatchNormalization\n",
    "from keras.layers.core import Dropout, Activation\n",
    "from keras.callbacks import ModelCheckpoint\n",
    "from keras.layers.advanced_activations import LeakyReLU\n",
    "from keras import backend as K\n",
    "from sklearn import metrics\n",
    "import time"
   ]
  },
  {
   "cell_type": "code",
   "execution_count": 48,
   "metadata": {
    "collapsed": false
   },
   "outputs": [],
   "source": [
    "context_train = []\n",
    "ad_train = []\n",
    "y_train = []\n",
    "with open('../../data/click-train') as f:\n",
    "    for line in f:\n",
    "        label, context, ad = line.strip().split(\"\\t\")\n",
    "        y_train.append(int(label))\n",
    "        context_train.append(map(lambda x: int(x), context.split(\" \")))\n",
    "        ad_train.append(map(lambda x: int(x), ad.split(\" \")))\n",
    "        \n",
    "        \n",
    "context_test = []\n",
    "ad_test = []\n",
    "y_test = []\n",
    "with open('../../data/click-test') as f:\n",
    "    for line in f:\n",
    "        label, context, ad = line.strip().split(\"\\t\")\n",
    "        y_test.append(int(label))\n",
    "        context_test.append(map(lambda x: int(x), context.split(\" \")))\n",
    "        ad_test.append(map(lambda x: int(x), ad.split(\" \")))"
   ]
  },
  {
   "cell_type": "code",
   "execution_count": 49,
   "metadata": {
    "collapsed": true
   },
   "outputs": [],
   "source": [
    "max_features = 2 ** 17\n",
    "maxlen = 15\n",
    "\n",
    "\n",
    "context_train = sequence.pad_sequences(context_train, maxlen=maxlen)\n",
    "ad_train = sequence.pad_sequences(ad_train, maxlen=maxlen)\n",
    "\n",
    "context_test = sequence.pad_sequences(context_test, maxlen=maxlen)\n",
    "ad_test = sequence.pad_sequences(ad_test, maxlen=maxlen)\n",
    "\n"
   ]
  },
  {
   "cell_type": "code",
   "execution_count": 50,
   "metadata": {
    "collapsed": false
   },
   "outputs": [],
   "source": [
    "def means(x):\n",
    "    return K.mean(x, axis=1)"
   ]
  },
  {
   "cell_type": "code",
   "execution_count": 61,
   "metadata": {
    "collapsed": false,
    "scrolled": true
   },
   "outputs": [
    {
     "name": "stdout",
     "output_type": "stream",
     "text": [
      "Train on 10000 samples, validate on 10000 samples\n",
      "Epoch 1/1\n",
      "8s - loss: 0.7766 - fmeasure: 0.4847 - val_loss: 0.6945 - val_fmeasure: 0.0000e+00\n",
      "train auc -> 0.679091303289\n",
      "test auc -> 0.52214441479\n",
      "Train on 10000 samples, validate on 10000 samples\n",
      "Epoch 1/1\n",
      "8s - loss: 0.6997 - fmeasure: 0.5383 - val_loss: 0.6921 - val_fmeasure: 0.1746\n",
      "train auc -> 0.786231809687\n",
      "test auc -> 0.528855109055\n",
      "Train on 10000 samples, validate on 10000 samples\n",
      "Epoch 1/1\n",
      "8s - loss: 0.6406 - fmeasure: 0.6266 - val_loss: 0.6924 - val_fmeasure: 0.4535\n",
      "train auc -> 0.854723230508\n",
      "test auc -> 0.529542391735\n",
      "Train on 10000 samples, validate on 10000 samples\n",
      "Epoch 1/1\n",
      "8s - loss: 0.6115 - fmeasure: 0.6719 - val_loss: 0.7707 - val_fmeasure: 0.6367\n",
      "train auc -> 0.88129955095\n",
      "test auc -> 0.5315305559\n",
      "Train on 10000 samples, validate on 10000 samples\n",
      "Epoch 1/1\n",
      "8s - loss: 0.5860 - fmeasure: 0.6992 - val_loss: 0.7799 - val_fmeasure: 0.6253\n",
      "train auc -> 0.892371218897\n",
      "test auc -> 0.525873803112\n",
      "Train on 10000 samples, validate on 10000 samples\n",
      "Epoch 1/1\n",
      "8s - loss: 0.5648 - fmeasure: 0.7151 - val_loss: 0.8255 - val_fmeasure: 0.6210\n",
      "train auc -> 0.918573480822\n",
      "test auc -> 0.522866268671\n",
      "Train on 10000 samples, validate on 10000 samples\n",
      "Epoch 1/1\n",
      "8s - loss: 0.5451 - fmeasure: 0.7289 - val_loss: 0.8365 - val_fmeasure: 0.6305\n",
      "train auc -> 0.929345413801\n",
      "test auc -> 0.523208399521\n",
      "Train on 10000 samples, validate on 10000 samples\n",
      "Epoch 1/1\n",
      "8s - loss: 0.5300 - fmeasure: 0.7395 - val_loss: 0.7761 - val_fmeasure: 0.5970\n",
      "train auc -> 0.932419047651\n",
      "test auc -> 0.525397288722\n",
      "Train on 10000 samples, validate on 10000 samples\n",
      "Epoch 1/1\n",
      "8s - loss: 0.5195 - fmeasure: 0.7401 - val_loss: 0.8087 - val_fmeasure: 0.2360\n",
      "train auc -> 0.937956302075\n",
      "test auc -> 0.526295219651\n",
      "Train on 10000 samples, validate on 10000 samples\n",
      "Epoch 1/1\n",
      "8s - loss: 0.5064 - fmeasure: 0.7406 - val_loss: 0.7826 - val_fmeasure: 0.3852\n",
      "train auc -> 0.944005218613\n",
      "test auc -> 0.524229790452\n"
     ]
    }
   ],
   "source": [
    "from keras.layers import Merge\n",
    "\n",
    "batch_size = 32\n",
    "embedding_dims = 1\n",
    "\n",
    "\n",
    "left_branch = Sequential()\n",
    "left_branch.add(Embedding(input_dim=max_features, output_dim=embedding_dims, init='glorot_uniform'))\n",
    "# left_branch.add(BatchNormalization())\n",
    "left_branch.add(Dropout(0.5))\n",
    "left_branch.add(Lambda(means, output_shape=(embedding_dims,)))\n",
    "# left_branch.add(Dense(32, input_dim=embeding_dim))\n",
    "\n",
    "right_branch = Sequential()\n",
    "right_branch.add(Embedding(input_dim=max_features, output_dim=embedding_dims, init='glorot_uniform'))\n",
    "# left_branch.add(BatchNormalization())\n",
    "left_branch.add(Dropout(0.5))\n",
    "right_branch.add(Lambda(means, output_shape=(embedding_dims,)))\n",
    "# right_branch.add(Dense(32, input_dim=embeding_dim))\n",
    "\n",
    "merged = Merge([left_branch, right_branch], mode='concat')\n",
    "\n",
    "final_model = Sequential()\n",
    "final_model.add(merged)\n",
    "\n",
    "final_model.add(Dense(20))\n",
    "final_model.add(BatchNormalization())\n",
    "final_model.add(LeakyReLU(alpha=.01))\n",
    "final_model.add(Dense(1))\n",
    "final_model.add(BatchNormalization())\n",
    "final_model.add(Activation('sigmoid'))\n",
    "\n",
    "final_model.compile(loss='binary_crossentropy', optimizer='adam', metrics=['fmeasure'])\n",
    "\n",
    "model_path = ''\n",
    "for i in range(10):\n",
    "    \n",
    "    \n",
    "    if model_path != '':\n",
    "        final_model.load_weights(model_path)\n",
    "    model_path = '../../model/weights.epoch' + str(i) + \"_\" + str(int(time.time())) + '.hdf5'\n",
    "    weight_save_callback = ModelCheckpoint(model_path, monitor='val_loss', verbose=0, save_best_only=False, mode='auto')\n",
    "    final_model.fit([context_train, ad_train], y_train, verbose=2, batch_size=batch_size,validation_data=([context_test, ad_test], y_test), nb_epoch=1, callbacks=[weight_save_callback])\n",
    "    \n",
    "    y_pred = final_model.predict([context_train, ad_train])[:, 0]\n",
    "    fpr, tpr, thresholds = metrics.roc_curve(y_train, y_pred)\n",
    "    print \"train auc -> \" + str(metrics.auc(fpr, tpr))\n",
    "    \n",
    "    y_pred = final_model.predict([context_test, ad_test])[:, 0]\n",
    "    fpr, tpr, thresholds = metrics.roc_curve(y_test, y_pred)\n",
    "    print \"test auc -> \" + str(metrics.auc(fpr, tpr))\n",
    "\n"
   ]
  },
  {
   "cell_type": "code",
   "execution_count": 6,
   "metadata": {
    "collapsed": false
   },
   "outputs": [],
   "source": [
    "# final_model.load_weights('../../model/weights.01-0.69.hdf5')\n",
    "# final_model.fit([context_train, ad_train], y_train, verbose=2, batch_size=batch_size,validation_data=([context_test, ad_test], y_test), nb_epoch=2, callbacks=[weight_save_callback])"
   ]
  },
  {
   "cell_type": "code",
   "execution_count": 7,
   "metadata": {
    "collapsed": false
   },
   "outputs": [
    {
     "ename": "RuntimeError",
     "evalue": "Failed to import pydot. You must install pydot and graphviz for `pydotprint` to work.",
     "output_type": "error",
     "traceback": [
      "\u001b[1;31m\u001b[0m",
      "\u001b[1;31mRuntimeError\u001b[0mTraceback (most recent call last)",
      "\u001b[1;32m<ipython-input-7-fb004386d02f>\u001b[0m in \u001b[0;36m<module>\u001b[1;34m()\u001b[0m\n\u001b[0;32m     34\u001b[0m \u001b[1;33m\u001b[0m\u001b[0m\n\u001b[0;32m     35\u001b[0m \u001b[1;33m\u001b[0m\u001b[0m\n\u001b[1;32m---> 36\u001b[1;33m \u001b[1;32mfrom\u001b[0m \u001b[0mkeras\u001b[0m\u001b[1;33m.\u001b[0m\u001b[0mutils\u001b[0m\u001b[1;33m.\u001b[0m\u001b[0mvisualize_util\u001b[0m \u001b[1;32mimport\u001b[0m \u001b[0mplot\u001b[0m\u001b[1;33m\u001b[0m\u001b[0m\n\u001b[0m\u001b[0;32m     37\u001b[0m \u001b[0mplot\u001b[0m\u001b[1;33m(\u001b[0m\u001b[0mmodel\u001b[0m\u001b[1;33m,\u001b[0m \u001b[0mto_file\u001b[0m\u001b[1;33m=\u001b[0m\u001b[1;34m'model.png'\u001b[0m\u001b[1;33m)\u001b[0m\u001b[1;33m\u001b[0m\u001b[0m\n",
      "\u001b[1;32m/opt/meituan/apps/venv/lib/python2.7/site-packages/keras/utils/visualize_util.py\u001b[0m in \u001b[0;36m<module>\u001b[1;34m()\u001b[0m\n\u001b[0;32m     11\u001b[0m     \u001b[1;32mimport\u001b[0m \u001b[0mpydot\u001b[0m\u001b[1;33m\u001b[0m\u001b[0m\n\u001b[0;32m     12\u001b[0m \u001b[1;32mif\u001b[0m \u001b[1;32mnot\u001b[0m \u001b[0mpydot\u001b[0m\u001b[1;33m.\u001b[0m\u001b[0mfind_graphviz\u001b[0m\u001b[1;33m(\u001b[0m\u001b[1;33m)\u001b[0m\u001b[1;33m:\u001b[0m\u001b[1;33m\u001b[0m\u001b[0m\n\u001b[1;32m---> 13\u001b[1;33m     raise RuntimeError('Failed to import pydot. You must install pydot'\n\u001b[0m\u001b[0;32m     14\u001b[0m                        ' and graphviz for `pydotprint` to work.')\n\u001b[0;32m     15\u001b[0m \u001b[1;33m\u001b[0m\u001b[0m\n",
      "\u001b[1;31mRuntimeError\u001b[0m: Failed to import pydot. You must install pydot and graphviz for `pydotprint` to work."
     ]
    }
   ],
   "source": [
    "from keras.layers import Merge\n",
    "\n",
    "batch_size = 32\n",
    "embedding_dims = 100\n",
    "\n",
    "\n",
    "left_branch = Sequential()\n",
    "left_branch.add(Embedding(input_dim=max_features, output_dim=embedding_dims, init='glorot_uniform'))\n",
    "# left_branch.add(BatchNormalization())\n",
    "left_branch.add(Dropout(0.5))\n",
    "left_branch.add(Lambda(means, output_shape=(embedding_dims,)))\n",
    "# left_branch.add(Dense(32, input_dim=embeding_dim))\n",
    "\n",
    "right_branch = Sequential()\n",
    "right_branch.add(Embedding(input_dim=max_features, output_dim=embedding_dims, init='glorot_uniform'))\n",
    "# left_branch.add(BatchNormalization())\n",
    "left_branch.add(Dropout(0.5))\n",
    "right_branch.add(Lambda(means, output_shape=(embedding_dims,)))\n",
    "# right_branch.add(Dense(32, input_dim=embeding_dim))\n",
    "\n",
    "merged = Merge([left_branch, right_branch], mode='concat')\n",
    "\n",
    "final_model = Sequential()\n",
    "final_model.add(merged)\n",
    "\n",
    "final_model.add(Dense(20))\n",
    "final_model.add(BatchNormalization())\n",
    "final_model.add(LeakyReLU(alpha=.01))\n",
    "final_model.add(Dense(1))\n",
    "final_model.add(BatchNormalization())\n",
    "final_model.add(Activation('sigmoid'))\n",
    "\n",
    "final_model.compile(loss='binary_crossentropy', optimizer='adam', metrics=['fmeasure'])\n",
    "\n",
    "\n",
    "from keras.utils.visualize_util import plot\n",
    "plot(model, to_file='model.png')"
   ]
  },
  {
   "cell_type": "code",
   "execution_count": null,
   "metadata": {
    "collapsed": false
   },
   "outputs": [],
   "source": [
    "# load model to predict\n",
    "model_path = '../../model/weights.epoch3_1481833706.hdf5'\n",
    "final_model.load_weights(model_path)\n",
    "\n",
    "y_pred = final_model.predict([context_train, ad_train])[:, 0]\n",
    "fpr, tpr, thresholds = metrics.roc_curve(y_train, y_pred)\n",
    "print \"train auc -> \" + str(metrics.auc(fpr, tpr))\n",
    "\n",
    "y_pred = final_model.predict([context_test, ad_test])[:, 0]\n",
    "fpr, tpr, thresholds = metrics.roc_curve(y_test, y_pred)\n",
    "print \"test auc -> \" + str(metrics.auc(fpr, tpr))"
   ]
  },
  {
   "cell_type": "code",
   "execution_count": null,
   "metadata": {
    "collapsed": false
   },
   "outputs": [],
   "source": [
    "! ls ../../modelweights.epoch3_1481833706.hdf5"
   ]
  },
  {
   "cell_type": "code",
   "execution_count": 9,
   "metadata": {
    "collapsed": false
   },
   "outputs": [
    {
     "ename": "NameError",
     "evalue": "name 'wer' is not defined",
     "output_type": "error",
     "traceback": [
      "\u001b[1;31m\u001b[0m",
      "\u001b[1;31mNameError\u001b[0mTraceback (most recent call last)",
      "\u001b[1;32m<ipython-input-9-8679e713e4b6>\u001b[0m in \u001b[0;36m<module>\u001b[1;34m()\u001b[0m\n\u001b[1;32m----> 1\u001b[1;33m \u001b[0mwer\u001b[0m\u001b[1;33m\u001b[0m\u001b[0m\n\u001b[0m",
      "\u001b[1;31mNameError\u001b[0m: name 'wer' is not defined"
     ]
    }
   ],
   "source": [
    "wer"
   ]
  },
  {
   "cell_type": "code",
   "execution_count": null,
   "metadata": {
    "collapsed": true
   },
   "outputs": [],
   "source": []
  }
 ],
 "metadata": {
  "kernelspec": {
   "display_name": "Python 2",
   "language": "python",
   "name": "python2"
  },
  "language_info": {
   "codemirror_mode": {
    "name": "ipython",
    "version": 2
   },
   "file_extension": ".py",
   "mimetype": "text/x-python",
   "name": "python",
   "nbconvert_exporter": "python",
   "pygments_lexer": "ipython2",
   "version": "2.7.11"
  }
 },
 "nbformat": 4,
 "nbformat_minor": 0
}
